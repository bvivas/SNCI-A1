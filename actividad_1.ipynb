{
 "cells": [
  {
   "attachments": {},
   "cell_type": "markdown",
   "metadata": {},
   "source": [
    "# REDES SOCIALES, COLABORACIÓN EN RED"
   ]
  },
  {
   "attachments": {},
   "cell_type": "markdown",
   "metadata": {},
   "source": [
    "**Actividad 1: Ejercicio de Centralidad**  \n",
    "Grafo Juego de Tronos  \n",
    "  \n",
    "**Autores:**  \n",
    "Martín Salinas Antón - martin.salinas@estudiante.uam.es  \n",
    "Belén Vivas García - belen.vivas@estudiante.uam.es"
   ]
  },
  {
   "cell_type": "code",
   "execution_count": 18,
   "metadata": {},
   "outputs": [],
   "source": [
    "import networkx as nx\n",
    "import matplotlib.pyplot as plt\n",
    "import numpy as np\n",
    "from itertools import islice"
   ]
  },
  {
   "attachments": {},
   "cell_type": "markdown",
   "metadata": {},
   "source": [
    "## Lectura de Datos"
   ]
  },
  {
   "attachments": {},
   "cell_type": "markdown",
   "metadata": {},
   "source": [
    "Leemos el grafo con NetworkX y vemos la estructura que tiene."
   ]
  },
  {
   "cell_type": "code",
   "execution_count": 19,
   "metadata": {},
   "outputs": [],
   "source": [
    "G = nx.read_graphml('data/juegoDtronos.graphml')"
   ]
  },
  {
   "cell_type": "code",
   "execution_count": 20,
   "metadata": {},
   "outputs": [
    {
     "name": "stdout",
     "output_type": "stream",
     "text": [
      "('Addam-Marbrand', {'label': 'Addam-Marbrand', 'size': 10.0, 'r': 0, 'g': 0, 'b': 0, 'x': 548.192, 'y': -1542.1415})\n",
      "('Brynden-Tully', {'label': 'Brynden-Tully', 'size': 10.0, 'r': 0, 'g': 0, 'b': 0, 'x': -867.2599, 'y': -1118.1295})\n",
      "('Cersei-Lannister', {'label': 'Cersei-Lannister', 'size': 10.0, 'r': 0, 'g': 0, 'b': 0, 'x': 725.1648, 'y': -1192.3834})\n",
      "('Gyles-Rosby', {'label': 'Gyles-Rosby', 'size': 10.0, 'r': 0, 'g': 0, 'b': 0, 'x': 1218.8805, 'y': -862.3968})\n",
      "('Jaime-Lannister', {'label': 'Jaime-Lannister', 'size': 10.0, 'r': 0, 'g': 0, 'b': 0, 'x': -144.7509, 'y': -1121.8662})\n",
      "('Jalabhar-Xho', {'label': 'Jalabhar-Xho', 'size': 10.0, 'r': 0, 'g': 0, 'b': 0, 'x': 1844.3105, 'y': -2152.5952})\n",
      "('Joffrey-Baratheon', {'label': 'Joffrey-Baratheon', 'size': 10.0, 'r': 0, 'g': 0, 'b': 0, 'x': 339.98248, 'y': -498.40387})\n",
      "('Kevan-Lannister', {'label': 'Kevan-Lannister', 'size': 10.0, 'r': 0, 'g': 0, 'b': 0, 'x': 119.34762, 'y': -637.41815})\n",
      "('Lyle-Crakehall', {'label': 'Lyle-Crakehall', 'size': 10.0, 'r': 0, 'g': 0, 'b': 0, 'x': -81.9758, 'y': -2247.025})\n",
      "('Oberyn-Martell', {'label': 'Oberyn-Martell', 'size': 10.0, 'r': 0, 'g': 0, 'b': 0, 'x': 1124.5178, 'y': -1657.6737})\n"
     ]
    }
   ],
   "source": [
    "# Vemos una muestra de los nodos que tiene y sus atributos\n",
    "for node in islice(G.nodes(data=True), 0, 10):\n",
    "    print(node)"
   ]
  },
  {
   "cell_type": "code",
   "execution_count": 21,
   "metadata": {},
   "outputs": [
    {
     "name": "stdout",
     "output_type": "stream",
     "text": [
      "('Addam-Marbrand', 'Brynden-Tully', {'weight': 3.0, 'id': '0'})\n",
      "('Addam-Marbrand', 'Cersei-Lannister', {'weight': 3.0, 'id': '1'})\n",
      "('Addam-Marbrand', 'Gyles-Rosby', {'weight': 3.0, 'id': '2'})\n",
      "('Addam-Marbrand', 'Jaime-Lannister', {'weight': 14.0, 'id': '3'})\n",
      "('Addam-Marbrand', 'Jalabhar-Xho', {'weight': 3.0, 'id': '4'})\n",
      "('Addam-Marbrand', 'Joffrey-Baratheon', {'weight': 3.0, 'id': '5'})\n",
      "('Addam-Marbrand', 'Kevan-Lannister', {'weight': 3.0, 'id': '6'})\n",
      "('Addam-Marbrand', 'Lyle-Crakehall', {'weight': 4.0, 'id': '7'})\n",
      "('Addam-Marbrand', 'Oberyn-Martell', {'weight': 3.0, 'id': '8'})\n",
      "('Addam-Marbrand', 'Tyrion-Lannister', {'weight': 7.0, 'id': '9'})\n"
     ]
    }
   ],
   "source": [
    "# Vemos una muestra de como son las conexiones entre los nodos\n",
    "for edge in islice(G.edges(data=True), 0, 10):\n",
    "    print(edge)"
   ]
  },
  {
   "attachments": {},
   "cell_type": "markdown",
   "metadata": {},
   "source": [
    "## Análisis del Grafo"
   ]
  },
  {
   "attachments": {},
   "cell_type": "markdown",
   "metadata": {},
   "source": [
    "### Conexión"
   ]
  },
  {
   "attachments": {},
   "cell_type": "markdown",
   "metadata": {},
   "source": [
    "Para determinar la conexión del grafo, primero tenemos que saber si es dirigido o no dirigido.  \n",
    "Mirando el fichero, podemos ver un atributo al principio: `<graph edgedefault=\"directed\">`, que nos indica que es dirigido, pero usaremos la librería de NetworkX para confirmarlo."
   ]
  },
  {
   "cell_type": "code",
   "execution_count": 22,
   "metadata": {},
   "outputs": [
    {
     "data": {
      "text/plain": [
       "True"
      ]
     },
     "execution_count": 22,
     "metadata": {},
     "output_type": "execute_result"
    }
   ],
   "source": [
    "# Vemos si el grafo es dirigido\n",
    "nx.is_directed(G)"
   ]
  },
  {
   "attachments": {},
   "cell_type": "markdown",
   "metadata": {},
   "source": [
    "El grafo es dirigido, por lo que tendremos que buscar componentes fuertemente conectadas (strongly connected components). Primero comprobamos si todo el grafo está fuertemente conectado y, si no lo estuviera, buscaríamos la componente fuertemente conectada más grande."
   ]
  },
  {
   "cell_type": "code",
   "execution_count": 23,
   "metadata": {},
   "outputs": [
    {
     "data": {
      "text/plain": [
       "True"
      ]
     },
     "execution_count": 23,
     "metadata": {},
     "output_type": "execute_result"
    }
   ],
   "source": [
    "nx.is_strongly_connected(G)"
   ]
  },
  {
   "attachments": {},
   "cell_type": "markdown",
   "metadata": {},
   "source": [
    "El grafo es **conectado**, por lo que trabajaremos directamente con él."
   ]
  },
  {
   "attachments": {},
   "cell_type": "markdown",
   "metadata": {},
   "source": [
    "### Caminos más Cortos y Diámetro del Grafo"
   ]
  }
 ],
 "metadata": {
  "kernelspec": {
   "display_name": "Python 3",
   "language": "python",
   "name": "python3"
  },
  "language_info": {
   "codemirror_mode": {
    "name": "ipython",
    "version": 3
   },
   "file_extension": ".py",
   "mimetype": "text/x-python",
   "name": "python",
   "nbconvert_exporter": "python",
   "pygments_lexer": "ipython3",
   "version": "3.8.10"
  },
  "orig_nbformat": 4
 },
 "nbformat": 4,
 "nbformat_minor": 2
}
