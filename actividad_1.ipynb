{
 "cells": [
  {
   "attachments": {},
   "cell_type": "markdown",
   "metadata": {},
   "source": [
    "# REDES SOCIALES, COLABORACIÓN EN RED"
   ]
  },
  {
   "attachments": {},
   "cell_type": "markdown",
   "metadata": {},
   "source": [
    "**Actividad 1: Ejercicio de Centralidad**  \n",
    "Grafo Juego de Tronos  \n",
    "  \n",
    "**Autores:**  \n",
    "Martín Salinas Antón - martin.salinas@estudiante.uam.es  \n",
    "Belén Vivas García - belen.vivas@estudiante.uam.es"
   ]
  },
  {
   "cell_type": "code",
   "execution_count": 1,
   "metadata": {},
   "outputs": [],
   "source": [
    "import networkx as nx\n",
    "import matplotlib.pyplot as plt\n",
    "import numpy as np\n",
    "from itertools import islice"
   ]
  },
  {
   "attachments": {},
   "cell_type": "markdown",
   "metadata": {},
   "source": [
    "## Lectura de Datos"
   ]
  },
  {
   "attachments": {},
   "cell_type": "markdown",
   "metadata": {},
   "source": [
    "Leemos el grafo con NetworkX y vemos la estructura que tiene."
   ]
  },
  {
   "cell_type": "code",
   "execution_count": 2,
   "metadata": {},
   "outputs": [],
   "source": [
    "G = nx.read_graphml('data/juegoDtronos.graphml')"
   ]
  },
  {
   "cell_type": "code",
   "execution_count": 3,
   "metadata": {},
   "outputs": [
    {
     "name": "stdout",
     "output_type": "stream",
     "text": [
      "('Addam-Marbrand', {'label': 'Addam-Marbrand', 'size': 10.0, 'r': 0, 'g': 0, 'b': 0, 'x': 548.192, 'y': -1542.1415})\n",
      "('Brynden-Tully', {'label': 'Brynden-Tully', 'size': 10.0, 'r': 0, 'g': 0, 'b': 0, 'x': -867.2599, 'y': -1118.1295})\n",
      "('Cersei-Lannister', {'label': 'Cersei-Lannister', 'size': 10.0, 'r': 0, 'g': 0, 'b': 0, 'x': 725.1648, 'y': -1192.3834})\n",
      "('Gyles-Rosby', {'label': 'Gyles-Rosby', 'size': 10.0, 'r': 0, 'g': 0, 'b': 0, 'x': 1218.8805, 'y': -862.3968})\n",
      "('Jaime-Lannister', {'label': 'Jaime-Lannister', 'size': 10.0, 'r': 0, 'g': 0, 'b': 0, 'x': -144.7509, 'y': -1121.8662})\n",
      "('Jalabhar-Xho', {'label': 'Jalabhar-Xho', 'size': 10.0, 'r': 0, 'g': 0, 'b': 0, 'x': 1844.3105, 'y': -2152.5952})\n",
      "('Joffrey-Baratheon', {'label': 'Joffrey-Baratheon', 'size': 10.0, 'r': 0, 'g': 0, 'b': 0, 'x': 339.98248, 'y': -498.40387})\n",
      "('Kevan-Lannister', {'label': 'Kevan-Lannister', 'size': 10.0, 'r': 0, 'g': 0, 'b': 0, 'x': 119.34762, 'y': -637.41815})\n",
      "('Lyle-Crakehall', {'label': 'Lyle-Crakehall', 'size': 10.0, 'r': 0, 'g': 0, 'b': 0, 'x': -81.9758, 'y': -2247.025})\n",
      "('Oberyn-Martell', {'label': 'Oberyn-Martell', 'size': 10.0, 'r': 0, 'g': 0, 'b': 0, 'x': 1124.5178, 'y': -1657.6737})\n"
     ]
    }
   ],
   "source": [
    "# Vemos una muestra de los nodos que tiene y sus atributos\n",
    "for node in islice(G.nodes(data=True), 0, 10):\n",
    "    print(node)"
   ]
  },
  {
   "cell_type": "code",
   "execution_count": 4,
   "metadata": {},
   "outputs": [
    {
     "name": "stdout",
     "output_type": "stream",
     "text": [
      "('Addam-Marbrand', 'Brynden-Tully', {'weight': 3.0, 'id': '0'})\n",
      "('Addam-Marbrand', 'Cersei-Lannister', {'weight': 3.0, 'id': '1'})\n",
      "('Addam-Marbrand', 'Gyles-Rosby', {'weight': 3.0, 'id': '2'})\n",
      "('Addam-Marbrand', 'Jaime-Lannister', {'weight': 14.0, 'id': '3'})\n",
      "('Addam-Marbrand', 'Jalabhar-Xho', {'weight': 3.0, 'id': '4'})\n",
      "('Addam-Marbrand', 'Joffrey-Baratheon', {'weight': 3.0, 'id': '5'})\n",
      "('Addam-Marbrand', 'Kevan-Lannister', {'weight': 3.0, 'id': '6'})\n",
      "('Addam-Marbrand', 'Lyle-Crakehall', {'weight': 4.0, 'id': '7'})\n",
      "('Addam-Marbrand', 'Oberyn-Martell', {'weight': 3.0, 'id': '8'})\n",
      "('Addam-Marbrand', 'Tyrion-Lannister', {'weight': 7.0, 'id': '9'})\n"
     ]
    }
   ],
   "source": [
    "# Vemos una muestra de como son las conexiones entre los nodos\n",
    "for edge in islice(G.edges(data=True), 0, 10):\n",
    "    print(edge)"
   ]
  },
  {
   "attachments": {},
   "cell_type": "markdown",
   "metadata": {},
   "source": [
    "## Análisis del Grafo"
   ]
  },
  {
   "attachments": {},
   "cell_type": "markdown",
   "metadata": {},
   "source": [
    "### Conexión"
   ]
  },
  {
   "attachments": {},
   "cell_type": "markdown",
   "metadata": {},
   "source": [
    "Para determinar la conexión del grafo, primero tenemos que saber si es dirigido o no dirigido.  \n",
    "Mirando el fichero, podemos ver un atributo al principio: `<graph edgedefault=\"directed\">`, que nos indica que es dirigido, pero usaremos la librería de NetworkX para confirmarlo."
   ]
  },
  {
   "cell_type": "code",
   "execution_count": 5,
   "metadata": {},
   "outputs": [
    {
     "name": "stdout",
     "output_type": "stream",
     "text": [
      "El grafo es dirigido\n"
     ]
    }
   ],
   "source": [
    "# Vemos si el grafo es dirigido\n",
    "if nx.is_directed(G):\n",
    "    print(\"El grafo es dirigido\")\n",
    "else:\n",
    "    print(\"El grafo no es dirigido\")"
   ]
  },
  {
   "attachments": {},
   "cell_type": "markdown",
   "metadata": {},
   "source": [
    "El grafo es dirigido, por lo que tendremos que buscar componentes fuertemente conectadas (strongly connected components). Primero comprobamos si todo el grafo está fuertemente conectado y, si no lo estuviera, buscaríamos la componente fuertemente conectada más grande."
   ]
  },
  {
   "cell_type": "code",
   "execution_count": 6,
   "metadata": {},
   "outputs": [
    {
     "name": "stdout",
     "output_type": "stream",
     "text": [
      "El grafo está fuertemente conectado\n"
     ]
    }
   ],
   "source": [
    "# Vemos si el grafo esta fuertemente conectado\n",
    "if nx.is_strongly_connected(G):\n",
    "    print(\"El grafo está fuertemente conectado\")\n",
    "else:\n",
    "    print(\"El grafo no está fuertemente conectado\")"
   ]
  },
  {
   "attachments": {},
   "cell_type": "markdown",
   "metadata": {},
   "source": [
    "El grafo es **conectado**, por lo que trabajaremos directamente con él."
   ]
  },
  {
   "attachments": {},
   "cell_type": "markdown",
   "metadata": {},
   "source": [
    "### Caminos más Cortos y Diámetro del Grafo"
   ]
  },
  {
   "attachments": {},
   "cell_type": "markdown",
   "metadata": {},
   "source": [
    "En primer lugar, obtenemos los caminos más cortos y el diámetro del grafo."
   ]
  },
  {
   "cell_type": "code",
   "execution_count": 7,
   "metadata": {},
   "outputs": [],
   "source": [
    "# Esta función devuelve la media de caminos de un grafo dirigido\n",
    "def media_caminos_dirigido(Graph):\n",
    "    suma = 0\n",
    "    N = len(Graph.nodes)\n",
    "    for u in nx.nodes(Graph):\n",
    "        for v in nx.nodes(Graph):\n",
    "            if u != v:\n",
    "                suma += nx.shortest_path_length(Graph, u, v)\n",
    "    return suma / (N * (N-1))\n",
    "\n",
    "def diametro(Graph):\n",
    "    return nx.diameter(Graph)"
   ]
  },
  {
   "cell_type": "code",
   "execution_count": 8,
   "metadata": {},
   "outputs": [
    {
     "name": "stdout",
     "output_type": "stream",
     "text": [
      "Longitud media de caminos entre 2 nodos del grafo (h): 3.416225783003066\n",
      "Diámetro del grafo (máximo camino más corto): 9\n"
     ]
    }
   ],
   "source": [
    "# Calculamos la media de caminos más cortos y el diámetro\n",
    "long_media_grafo = media_caminos_dirigido(G)\n",
    "print(f\"Longitud media de caminos entre 2 nodos del grafo (h): {long_media_grafo}\")\n",
    "print(f\"Diámetro del grafo (máximo camino más corto): {diametro(G)}\")"
   ]
  },
  {
   "attachments": {},
   "cell_type": "markdown",
   "metadata": {},
   "source": [
    "A continuación, graficamos los resultados."
   ]
  },
  {
   "cell_type": "code",
   "execution_count": 9,
   "metadata": {},
   "outputs": [],
   "source": [
    "# Esta función grafica la dostribución de caminos más cortos\n",
    "def distribucion_caminos_dirigido(Graph):\n",
    "    caminos = []\n",
    "    for u in nx.nodes(Graph):\n",
    "        for v in nx.nodes(Graph):\n",
    "            if u != v:\n",
    "                caminos.append(nx.shortest_path_length(Graph, u, v))\n",
    "    plt.hist(caminos)\n",
    "    plt.xlabel('Longitud del camino más corto')\n",
    "    plt.ylabel('Frecuencia')\n",
    "    plt.title('Distribución de caminos más cortos en el grafo dirigido')\n",
    "    plt.show()"
   ]
  },
  {
   "cell_type": "code",
   "execution_count": 10,
   "metadata": {},
   "outputs": [
    {
     "data": {
      "image/png": "[encoded data removed]",
      "text/plain": [
       "<Figure size 640x480 with 1 Axes>"
      ]
     },
     "metadata": {},
     "output_type": "display_data"
    }
   ],
   "source": [
    "# Obtenemos gráfica\n",
    "distribucion_caminos_dirigido(G)"
   ]
  },
  {
   "attachments": {},
   "cell_type": "markdown",
   "metadata": {},
   "source": [
    "### Otras Características Generales"
   ]
  },
  {
   "attachments": {},
   "cell_type": "markdown",
   "metadata": {},
   "source": [
    "### Centralidad de Cada Nodo"
   ]
  },
  {
   "attachments": {},
   "cell_type": "markdown",
   "metadata": {},
   "source": [
    "Ahora, vamos a calcular para cada nodo:\n",
    "- Centralidad de Grado\n",
    "- Centralidad de Vector Propio\n",
    "- Centralidad de Intermediación\n",
    "- Centralidad de Cercanía\n",
    "- Centralidad de Kantz\n",
    "- Centralidad de PageRank"
   ]
  },
  {
   "cell_type": "code",
   "execution_count": 11,
   "metadata": {},
   "outputs": [],
   "source": [
    "def top_10(dict):\n",
    "    print(sorted(dict.items(), key=lambda x: x[1], reverse=True)[0:10])\n",
    "\n",
    "\n",
    "def calcular_centralidades(Graph):\n",
    "    centralidad_de_grado = nx.degree_centrality(Graph)\n",
    "    centralidad_de_vector_propio = nx.eigenvector_centrality(Graph)\n",
    "    centralidad_de_intermediacion = nx.betweenness_centrality(Graph)\n",
    "    centralidad_de_cercania = nx.closeness_centrality(Graph)\n",
    "    centralidad_de_katz = nx.katz_centrality_numpy(Graph)\n",
    "    centralidad_de_pagerank = nx.pagerank(Graph)\n",
    "\n",
    "    # Imprimir resultados\n",
    "    \"\"\"\n",
    "    print(\"Centralidad de grado:\")\n",
    "    for nodo in Graph.nodes:\n",
    "        print(f\"{nodo}: {centralidad_de_grado[nodo]}\")\n",
    "    \n",
    "    print(\"\\nCentralidad de vector propio:\")\n",
    "    for nodo in Graph.nodes:\n",
    "        print(f\"{nodo}: {centralidad_de_vector_propio[nodo]}\")\n",
    "    \n",
    "    print(\"\\nCentralidad de intermediación:\")\n",
    "    for nodo in Graph.nodes:\n",
    "        print(f\"{nodo}: {centralidad_de_intermediacion[nodo]}\")\n",
    "    \n",
    "    print(\"\\nCentralidad de cercanía:\")\n",
    "    for nodo in Graph.nodes:\n",
    "        print(f\"{nodo}: {centralidad_de_cercania[nodo]}\")\n",
    "    \n",
    "    print(\"\\nCentralidad de Katz:\")\n",
    "    for nodo in Graph.nodes:\n",
    "        print(f\"{nodo}: {centralidad_de_katz[nodo]}\")\n",
    "    \n",
    "    print(\"\\nCentralidad de PageRank:\")\n",
    "    for nodo in Graph.nodes:\n",
    "        print(f\"{nodo}: {centralidad_de_pagerank[nodo]}\")\n",
    "    \"\"\"\n",
    "\n",
    "    # 10 personajes con mayor centralidad de grado\n",
    "    print(\"10 personajes con mayor centralidad de grado:\")\n",
    "    top_10(centralidad_de_grado)\n",
    "\n",
    "    # 10 personajes con mayor centralidad de vector propio\n",
    "    print(\"10 personajes con mayor centralidad de vector propio:\")\n",
    "    top_10(centralidad_de_vector_propio)\n",
    "\n",
    "    # 10 personajes con mayor centralidad de intermediacion\n",
    "    print(\"10 personajes con mayor centralidad de intermediación:\")\n",
    "    top_10(centralidad_de_intermediacion)\n",
    "\n",
    "    # 10 personajes con mayor centralidad de cercania\n",
    "    print(\"10 personajes con mayor centralidad de cercanía:\")\n",
    "    top_10(centralidad_de_cercania)\n",
    "\n",
    "    # 10 personajes con mayor centralidad de Katz\n",
    "    print(\"10 personajes con mayor centralidad de Katz:\")\n",
    "    top_10(centralidad_de_katz)\n",
    "\n",
    "    # 10 personajes con mayor centralidad de PageRank\n",
    "    print(\"10 personajes con mayor centralidad de PageRank:\")\n",
    "    top_10(centralidad_de_pagerank)\n"
   ]
  },
  {
   "cell_type": "code",
   "execution_count": 12,
   "metadata": {},
   "outputs": [
    {
     "name": "stdout",
     "output_type": "stream",
     "text": [
      "10 personajes con mayor centralidad de grado:\n",
      "[('Tyrion-Lannister', 0.3069182389937107), ('Jon-Snow', 0.28679245283018867), ('Jaime-Lannister', 0.2540880503144654), ('Cersei-Lannister', 0.2440251572327044), ('Stannis-Baratheon', 0.22389937106918237), ('Arya-Stark', 0.2113207547169811), ('Catelyn-Stark', 0.18867924528301885), ('Sansa-Stark', 0.18867924528301885), ('Robb-Stark', 0.1861635220125786), ('Eddard-Stark', 0.1861635220125786)]\n",
      "10 personajes con mayor centralidad de vector propio:\n",
      "[('Tyrion-Lannister', 0.2515583636908199), ('Cersei-Lannister', 0.2357712102434476), ('Jaime-Lannister', 0.22633850166044062), ('Joffrey-Baratheon', 0.21437627019042796), ('Sansa-Stark', 0.20584216286964788), ('Robert-Baratheon', 0.1943750405094227), ('Eddard-Stark', 0.19165954952371522), ('Stannis-Baratheon', 0.18208517838192118), ('Catelyn-Stark', 0.17588556613451867), ('Robb-Stark', 0.1731962718578243)]\n",
      "10 personajes con mayor centralidad de intermediación:\n",
      "[('Jon-Snow', 0.19211961968354493), ('Tyrion-Lannister', 0.16219109611159863), ('Daenerys-Targaryen', 0.11841801916269211), ('Theon-Greyjoy', 0.11128331813470231), ('Stannis-Baratheon', 0.11013955266679577), ('Jaime-Lannister', 0.10083800602581632), ('Cersei-Lannister', 0.08870426655860263), ('Arya-Stark', 0.08724236063571163), ('Eddard-Stark', 0.07873239257251852), ('Robert-Baratheon', 0.07822769060383253)]\n",
      "10 personajes con mayor centralidad de cercanía:\n",
      "[('Tyrion-Lannister', 0.4763331336129419), ('Robert-Baratheon', 0.4592720970537262), ('Eddard-Stark', 0.455848623853211), ('Cersei-Lannister', 0.45454545454545453), ('Jaime-Lannister', 0.4519613416714042), ('Jon-Snow', 0.44537815126050423), ('Stannis-Baratheon', 0.4446308724832215), ('Robb-Stark', 0.4441340782122905), ('Joffrey-Baratheon', 0.4339519650655022), ('Catelyn-Stark', 0.4334787350054526)]\n",
      "10 personajes con mayor centralidad de Katz:\n",
      "[('Stannis-Baratheon', 0.30740819040547523), ('Davos-Seaworth', 0.24818677977600312), ('Melisandre', 0.14910295312922617), ('Selyse-Florent', 0.14612811939391007), ('Cressen', 0.13459126844647518), ('Shireen-Baratheon', 0.12934585569936566), ('Axell-Florent', 0.1251334775711204), ('Renly-Baratheon', 0.12123110343879231), ('Alester-Florent', 0.10804505893921336), ('Pylos', 0.10227623725064909)]\n",
      "10 personajes con mayor centralidad de PageRank:\n",
      "[('Jon-Snow', 0.03569376450045843), ('Tyrion-Lannister', 0.03284906001585236), ('Cersei-Lannister', 0.023607038592018487), ('Daenerys-Targaryen', 0.022306881987248013), ('Jaime-Lannister', 0.01975354961936214), ('Eddard-Stark', 0.01893821958472186), ('Arya-Stark', 0.018538944931775433), ('Stannis-Baratheon', 0.01805167123106783), ('Joffrey-Baratheon', 0.01742008392061762), ('Robb-Stark', 0.01734465110466734)]\n"
     ]
    }
   ],
   "source": [
    "calcular_centralidades(G)"
   ]
  }
 ],
 "metadata": {
  "kernelspec": {
   "display_name": "Python 3",
   "language": "python",
   "name": "python3"
  },
  "language_info": {
   "codemirror_mode": {
    "name": "ipython",
    "version": 3
   },
   "file_extension": ".py",
   "mimetype": "text/x-python",
   "name": "python",
   "nbconvert_exporter": "python",
   "pygments_lexer": "ipython3",
   "version": "3.11.0"
  },
  "orig_nbformat": 4
 },
 "nbformat": 4,
 "nbformat_minor": 2
}
